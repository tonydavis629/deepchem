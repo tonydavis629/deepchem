{
 "cells": [
  {
   "cell_type": "code",
   "execution_count": 1,
   "metadata": {},
   "outputs": [
    {
     "name": "stderr",
     "output_type": "stream",
     "text": [
      "Skipped loading some Tensorflow models, missing a dependency. No module named 'tensorflow'\n",
      "/home/tony/miniconda3/envs/deepchem/lib/python3.10/site-packages/tqdm/auto.py:22: TqdmWarning: IProgress not found. Please update jupyter and ipywidgets. See https://ipywidgets.readthedocs.io/en/stable/user_install.html\n",
      "  from .autonotebook import tqdm as notebook_tqdm\n",
      "Skipped loading some Jax models, missing a dependency. No module named 'jax'\n"
     ]
    }
   ],
   "source": [
    "import deepchem as dc\n",
    "from deepchem.models.torch_models.infograph import InfoGraphModel\n",
    "from deepchem.feat import MolGraphConvFeaturizer"
   ]
  },
  {
   "cell_type": "code",
   "execution_count": 2,
   "metadata": {},
   "outputs": [],
   "source": [
    "featurizer = MolGraphConvFeaturizer()\n",
    "tasks, datasets, transformers = dc.molnet.load_zinc15(featurizer=featurizer)\n",
    "train_dataset, valid_dataset, test_dataset = datasets\n",
    "num_feat = max([train_dataset.X[i].num_node_features for i in range(len(train_dataset))])\n",
    "num_edge = max([train_dataset.X[i].num_edge_features for i in range(len(train_dataset))])\n",
    "dim = 64\n",
    "use_unsup_loss = True\n",
    "sep_encoder = False\n",
    "model = InfoGraphModel(num_feat, num_edge, dim, use_unsup_loss, sep_encoder)\n",
    "model.fit(train_dataset, nb_epoch=1000, tensorboard=True)"
   ]
  }
 ],
 "metadata": {
  "kernelspec": {
   "display_name": "deepchem",
   "language": "python",
   "name": "python3"
  },
  "language_info": {
   "codemirror_mode": {
    "name": "ipython",
    "version": 3
   },
   "file_extension": ".py",
   "mimetype": "text/x-python",
   "name": "python",
   "nbconvert_exporter": "python",
   "pygments_lexer": "ipython3",
   "version": "3.10.9"
  },
  "orig_nbformat": 4,
  "vscode": {
   "interpreter": {
    "hash": "de1ce6b2bfa2f3a8ef8fcc42be89d53aa54ed722391a62ff82bffbba164ea070"
   }
  }
 },
 "nbformat": 4,
 "nbformat_minor": 2
}
