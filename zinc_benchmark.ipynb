{
 "cells": [
  {
   "cell_type": "code",
   "execution_count": null,
   "metadata": {},
   "outputs": [],
   "source": [
    "import deepchem as dc\n",
    "from deepchem.models.torch_models.infograph import InfoGraphModel\n",
    "from deepchem.feat import MolGraphConvFeaturizer\n",
    "\n",
    "save_dir = '/home/tony/github/data/zinc'\n",
    "\n",
    "featurizer = MolGraphConvFeaturizer(use_edges=True)\n",
    "tasks, datasets, transformers = dc.molnet.load_zinc15(featurizer=featurizer, splitter='random', save_dir=save_dir)\n",
    "train_dataset, valid_dataset, test_dataset = datasets\n",
    "num_feat = 30 # max([train_dataset.X[i].num_node_features for i in range(len(train_dataset))])\n",
    "num_edge = 11 # max([train_dataset.X[i].num_edge_features for i in range(len(train_dataset))])\n",
    "dim = 64\n",
    "use_unsup_loss = True\n",
    "sep_encoder = False\n",
    "model = InfoGraphModel(num_feat, num_edge, dim, use_unsup_loss, sep_encoder, tensorboard=True, model_dir=save_dir, batch_size=800)\n",
    "model.fit(train_dataset, nb_epoch=5)"
   ]
  },
  {
   "cell_type": "code",
   "execution_count": 2,
   "metadata": {},
   "outputs": [
    {
     "name": "stdout",
     "output_type": "stream",
     "text": [
      "Elapsed time: 3208.50 seconds\n"
     ]
    }
   ],
   "source": [
    "import deepchem as dc\n",
    "from deepchem.models.torch_models.gnn import GNNModular\n",
    "from deepchem.feat import SNAPFeaturizer\n",
    "import time\n",
    "\n",
    "start = time.time()\n",
    "save_dir = '/home/tony/github/data/zinc/gnn'\n",
    "featurizer = SNAPFeaturizer()\n",
    "tasks, datasets, transformers = dc.molnet.load_zinc15(featurizer=featurizer,\n",
    "                                                      splitter='random',\n",
    "                                                      save_dir=save_dir)\n",
    "train_dataset, valid_dataset, test_dataset = datasets\n",
    "\n",
    "model = GNNModular(task=\"mask_nodes\", tensorboard=True, model_dir=save_dir, batch_size=800)\n",
    "model.fit(train_dataset, nb_epoch=1)\n",
    "end = time.time()\n",
    "elapsed = end - start\n",
    "print(f'Elapsed time: {elapsed:.2f} seconds')\n"
   ]
  }
 ],
 "metadata": {
  "kernelspec": {
   "display_name": "deepchem",
   "language": "python",
   "name": "python3"
  },
  "language_info": {
   "codemirror_mode": {
    "name": "ipython",
    "version": 3
   },
   "file_extension": ".py",
   "mimetype": "text/x-python",
   "name": "python",
   "nbconvert_exporter": "python",
   "pygments_lexer": "ipython3",
   "version": "3.10.9"
  },
  "orig_nbformat": 4,
  "vscode": {
   "interpreter": {
    "hash": "de1ce6b2bfa2f3a8ef8fcc42be89d53aa54ed722391a62ff82bffbba164ea070"
   }
  }
 },
 "nbformat": 4,
 "nbformat_minor": 2
}
